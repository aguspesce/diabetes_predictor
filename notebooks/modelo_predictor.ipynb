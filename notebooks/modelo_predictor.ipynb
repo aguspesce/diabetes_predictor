{
 "cells": [
  {
   "cell_type": "markdown",
   "id": "3f1be1a1-a96a-4029-b9e0-91445d7e2e6a",
   "metadata": {},
   "source": [
    "# Modelo de predicción de diabetes\n",
    "\n",
    "Se utiliza el dataset generado en el notebook anterior (`data/dataser1.csv`) para encontrar un modelo que prediga si un paciente con determinados síntomas tiene diabete o no. \n",
    "\n",
    "A continuación se utilizarán 3 tipos de modelos de clasificación: \n",
    "- Logistisc Regression\n",
    "- Random Forest y \n",
    "- Decision Tree\n",
    "\n",
    "Para encontrar lo mejores hiperparámetros para cada uno de los diferentes modelos se realiza una búsqueda utilizando `GridSearchCV` y validación cruzada `Kfold` de la librería de `sklearn`."
   ]
  },
  {
   "cell_type": "markdown",
   "id": "af6e5326-1271-4a67-bc28-b76284a8118d",
   "metadata": {},
   "source": [
    "Se importan los paquete a usar:"
   ]
  },
  {
   "cell_type": "code",
   "execution_count": 1,
   "id": "1ae01be5-44a5-42fd-8afc-dd6784dfe506",
   "metadata": {},
   "outputs": [],
   "source": [
    "import pandas as pd\n",
    "import matplotlib.pyplot as plt \n",
    "import seaborn as sns \n",
    "\n",
    "from sklearn.model_selection import train_test_split, GridSearchCV\n",
    "from sklearn.preprocessing import StandardScaler\n",
    "from sklearn import metrics\n",
    "from sklearn.metrics import confusion_matrix\n",
    "from sklearn.linear_model import LogisticRegression\n",
    "from sklearn.ensemble import RandomForestClassifier\n",
    "from sklearn.tree import DecisionTreeClassifier\n",
    "\n",
    "from sklearn.model_selection import (cross_validate, KFold)"
   ]
  },
  {
   "cell_type": "markdown",
   "id": "6de55480-562b-4fe4-9830-e991a7a715de",
   "metadata": {},
   "source": [
    "Se define una función para imprimir en pantalla las métricas y realizar la gráfica de la matriz de confusión:"
   ]
  },
  {
   "cell_type": "code",
   "execution_count": 2,
   "id": "1cb81906-fffe-42eb-aa85-aa44f56cbee1",
   "metadata": {},
   "outputs": [],
   "source": [
    "def calculate_metrics(y_test, y_predicted, model=None):\n",
    "    print(f\"Metricas del {model}\", \"\\n\")\n",
    "    print('Accuracy Score:', metrics.accuracy_score(y_test, y_predicted))\n",
    "    print('Precision Score:', metrics.precision_score(y_test, y_predicted))\n",
    "    print('Recall Score:', metrics.recall_score(y_test, y_predicted), \"\\n\") \n",
    "    print(metrics.classification_report(y_test, y_predicted))\n",
    "    \n",
    "    metrics.ConfusionMatrixDisplay.from_predictions(\n",
    "        y_test,\n",
    "        y_predicted,\n",
    "        cmap='Blues', \n",
    "        colorbar=False,\n",
    "        normalize=\"true\",\n",
    "    )\n",
    "    plt.title(\"Matriz de confusion\")\n",
    "    plt.show()"
   ]
  },
  {
   "cell_type": "markdown",
   "id": "a12caa1e-3a9e-4bda-8f4a-7c30bd9649dc",
   "metadata": {},
   "source": [
    "Se carga el dataset `datos/dataset_1.csv` usando la librería de `pandas`:"
   ]
  },
  {
   "cell_type": "code",
   "execution_count": 2,
   "id": "98953e52-12b4-4dfa-a159-5d545445e120",
   "metadata": {},
   "outputs": [
    {
     "data": {
      "text/html": [
       "<div>\n",
       "<style scoped>\n",
       "    .dataframe tbody tr th:only-of-type {\n",
       "        vertical-align: middle;\n",
       "    }\n",
       "\n",
       "    .dataframe tbody tr th {\n",
       "        vertical-align: top;\n",
       "    }\n",
       "\n",
       "    .dataframe thead th {\n",
       "        text-align: right;\n",
       "    }\n",
       "</style>\n",
       "<table border=\"1\" class=\"dataframe\">\n",
       "  <thead>\n",
       "    <tr style=\"text-align: right;\">\n",
       "      <th></th>\n",
       "      <th>Pregnancies</th>\n",
       "      <th>Glucose</th>\n",
       "      <th>BloodPressure</th>\n",
       "      <th>SkinThickness</th>\n",
       "      <th>Insulin</th>\n",
       "      <th>BMI</th>\n",
       "      <th>DiabetesPedigreeFunction</th>\n",
       "      <th>Age</th>\n",
       "      <th>Outcome</th>\n",
       "    </tr>\n",
       "  </thead>\n",
       "  <tbody>\n",
       "    <tr>\n",
       "      <th>0</th>\n",
       "      <td>6</td>\n",
       "      <td>148</td>\n",
       "      <td>72.0</td>\n",
       "      <td>35.000000</td>\n",
       "      <td>119.551524</td>\n",
       "      <td>33.6</td>\n",
       "      <td>0.627</td>\n",
       "      <td>50</td>\n",
       "      <td>1</td>\n",
       "    </tr>\n",
       "    <tr>\n",
       "      <th>1</th>\n",
       "      <td>1</td>\n",
       "      <td>85</td>\n",
       "      <td>66.0</td>\n",
       "      <td>29.000000</td>\n",
       "      <td>288.225858</td>\n",
       "      <td>26.6</td>\n",
       "      <td>0.351</td>\n",
       "      <td>31</td>\n",
       "      <td>0</td>\n",
       "    </tr>\n",
       "    <tr>\n",
       "      <th>2</th>\n",
       "      <td>8</td>\n",
       "      <td>183</td>\n",
       "      <td>64.0</td>\n",
       "      <td>20.939621</td>\n",
       "      <td>135.133308</td>\n",
       "      <td>23.3</td>\n",
       "      <td>0.672</td>\n",
       "      <td>32</td>\n",
       "      <td>1</td>\n",
       "    </tr>\n",
       "    <tr>\n",
       "      <th>3</th>\n",
       "      <td>1</td>\n",
       "      <td>89</td>\n",
       "      <td>66.0</td>\n",
       "      <td>23.000000</td>\n",
       "      <td>94.000000</td>\n",
       "      <td>28.1</td>\n",
       "      <td>0.167</td>\n",
       "      <td>21</td>\n",
       "      <td>0</td>\n",
       "    </tr>\n",
       "    <tr>\n",
       "      <th>4</th>\n",
       "      <td>0</td>\n",
       "      <td>137</td>\n",
       "      <td>40.0</td>\n",
       "      <td>35.000000</td>\n",
       "      <td>168.000000</td>\n",
       "      <td>43.1</td>\n",
       "      <td>2.288</td>\n",
       "      <td>33</td>\n",
       "      <td>1</td>\n",
       "    </tr>\n",
       "    <tr>\n",
       "      <th>...</th>\n",
       "      <td>...</td>\n",
       "      <td>...</td>\n",
       "      <td>...</td>\n",
       "      <td>...</td>\n",
       "      <td>...</td>\n",
       "      <td>...</td>\n",
       "      <td>...</td>\n",
       "      <td>...</td>\n",
       "      <td>...</td>\n",
       "    </tr>\n",
       "    <tr>\n",
       "      <th>746</th>\n",
       "      <td>10</td>\n",
       "      <td>101</td>\n",
       "      <td>76.0</td>\n",
       "      <td>48.000000</td>\n",
       "      <td>180.000000</td>\n",
       "      <td>32.9</td>\n",
       "      <td>0.171</td>\n",
       "      <td>63</td>\n",
       "      <td>0</td>\n",
       "    </tr>\n",
       "    <tr>\n",
       "      <th>747</th>\n",
       "      <td>2</td>\n",
       "      <td>122</td>\n",
       "      <td>70.0</td>\n",
       "      <td>27.000000</td>\n",
       "      <td>295.121677</td>\n",
       "      <td>36.8</td>\n",
       "      <td>0.340</td>\n",
       "      <td>27</td>\n",
       "      <td>0</td>\n",
       "    </tr>\n",
       "    <tr>\n",
       "      <th>748</th>\n",
       "      <td>5</td>\n",
       "      <td>121</td>\n",
       "      <td>72.0</td>\n",
       "      <td>23.000000</td>\n",
       "      <td>112.000000</td>\n",
       "      <td>26.2</td>\n",
       "      <td>0.245</td>\n",
       "      <td>30</td>\n",
       "      <td>0</td>\n",
       "    </tr>\n",
       "    <tr>\n",
       "      <th>749</th>\n",
       "      <td>1</td>\n",
       "      <td>126</td>\n",
       "      <td>60.0</td>\n",
       "      <td>43.152910</td>\n",
       "      <td>91.280287</td>\n",
       "      <td>30.1</td>\n",
       "      <td>0.349</td>\n",
       "      <td>47</td>\n",
       "      <td>1</td>\n",
       "    </tr>\n",
       "    <tr>\n",
       "      <th>750</th>\n",
       "      <td>1</td>\n",
       "      <td>93</td>\n",
       "      <td>70.0</td>\n",
       "      <td>31.000000</td>\n",
       "      <td>207.890880</td>\n",
       "      <td>30.4</td>\n",
       "      <td>0.315</td>\n",
       "      <td>23</td>\n",
       "      <td>0</td>\n",
       "    </tr>\n",
       "  </tbody>\n",
       "</table>\n",
       "<p>751 rows × 9 columns</p>\n",
       "</div>"
      ],
      "text/plain": [
       "     Pregnancies  Glucose  BloodPressure  SkinThickness     Insulin   BMI  \\\n",
       "0              6      148           72.0      35.000000  119.551524  33.6   \n",
       "1              1       85           66.0      29.000000  288.225858  26.6   \n",
       "2              8      183           64.0      20.939621  135.133308  23.3   \n",
       "3              1       89           66.0      23.000000   94.000000  28.1   \n",
       "4              0      137           40.0      35.000000  168.000000  43.1   \n",
       "..           ...      ...            ...            ...         ...   ...   \n",
       "746           10      101           76.0      48.000000  180.000000  32.9   \n",
       "747            2      122           70.0      27.000000  295.121677  36.8   \n",
       "748            5      121           72.0      23.000000  112.000000  26.2   \n",
       "749            1      126           60.0      43.152910   91.280287  30.1   \n",
       "750            1       93           70.0      31.000000  207.890880  30.4   \n",
       "\n",
       "     DiabetesPedigreeFunction  Age  Outcome  \n",
       "0                       0.627   50        1  \n",
       "1                       0.351   31        0  \n",
       "2                       0.672   32        1  \n",
       "3                       0.167   21        0  \n",
       "4                       2.288   33        1  \n",
       "..                        ...  ...      ...  \n",
       "746                     0.171   63        0  \n",
       "747                     0.340   27        0  \n",
       "748                     0.245   30        0  \n",
       "749                     0.349   47        1  \n",
       "750                     0.315   23        0  \n",
       "\n",
       "[751 rows x 9 columns]"
      ]
     },
     "execution_count": 2,
     "metadata": {},
     "output_type": "execute_result"
    }
   ],
   "source": [
    "dataset = pd.read_csv(\"../data/dataset_1.csv\")\n",
    "\n",
    "dataset"
   ]
  },
  {
   "cell_type": "code",
   "execution_count": 4,
   "id": "04368924-ad7c-42b4-b75e-3f79019f3ace",
   "metadata": {},
   "outputs": [
    {
     "data": {
      "text/html": [
       "<div>\n",
       "<style scoped>\n",
       "    .dataframe tbody tr th:only-of-type {\n",
       "        vertical-align: middle;\n",
       "    }\n",
       "\n",
       "    .dataframe tbody tr th {\n",
       "        vertical-align: top;\n",
       "    }\n",
       "\n",
       "    .dataframe thead th {\n",
       "        text-align: right;\n",
       "    }\n",
       "</style>\n",
       "<table border=\"1\" class=\"dataframe\">\n",
       "  <thead>\n",
       "    <tr style=\"text-align: right;\">\n",
       "      <th></th>\n",
       "      <th>count</th>\n",
       "      <th>mean</th>\n",
       "      <th>std</th>\n",
       "      <th>min</th>\n",
       "      <th>25%</th>\n",
       "      <th>50%</th>\n",
       "      <th>75%</th>\n",
       "      <th>max</th>\n",
       "    </tr>\n",
       "  </thead>\n",
       "  <tbody>\n",
       "    <tr>\n",
       "      <th>Pregnancies</th>\n",
       "      <td>751.0</td>\n",
       "      <td>3.853529</td>\n",
       "      <td>3.376761</td>\n",
       "      <td>0.000</td>\n",
       "      <td>1.000000</td>\n",
       "      <td>3.000</td>\n",
       "      <td>6.000000</td>\n",
       "      <td>17.00</td>\n",
       "    </tr>\n",
       "    <tr>\n",
       "      <th>Glucose</th>\n",
       "      <td>751.0</td>\n",
       "      <td>121.841545</td>\n",
       "      <td>30.498528</td>\n",
       "      <td>44.000</td>\n",
       "      <td>99.500000</td>\n",
       "      <td>117.000</td>\n",
       "      <td>141.000000</td>\n",
       "      <td>199.00</td>\n",
       "    </tr>\n",
       "    <tr>\n",
       "      <th>BloodPressure</th>\n",
       "      <td>751.0</td>\n",
       "      <td>73.015769</td>\n",
       "      <td>12.706673</td>\n",
       "      <td>24.000</td>\n",
       "      <td>64.000000</td>\n",
       "      <td>72.000</td>\n",
       "      <td>80.000000</td>\n",
       "      <td>122.00</td>\n",
       "    </tr>\n",
       "    <tr>\n",
       "      <th>SkinThickness</th>\n",
       "      <td>751.0</td>\n",
       "      <td>31.076000</td>\n",
       "      <td>10.285288</td>\n",
       "      <td>7.000</td>\n",
       "      <td>23.776798</td>\n",
       "      <td>31.000</td>\n",
       "      <td>39.000000</td>\n",
       "      <td>63.00</td>\n",
       "    </tr>\n",
       "    <tr>\n",
       "      <th>Insulin</th>\n",
       "      <td>751.0</td>\n",
       "      <td>174.739845</td>\n",
       "      <td>99.316711</td>\n",
       "      <td>14.000</td>\n",
       "      <td>102.203090</td>\n",
       "      <td>160.000</td>\n",
       "      <td>229.354901</td>\n",
       "      <td>846.00</td>\n",
       "    </tr>\n",
       "    <tr>\n",
       "      <th>BMI</th>\n",
       "      <td>751.0</td>\n",
       "      <td>32.451664</td>\n",
       "      <td>6.933059</td>\n",
       "      <td>18.200</td>\n",
       "      <td>27.500000</td>\n",
       "      <td>32.300</td>\n",
       "      <td>36.600000</td>\n",
       "      <td>67.10</td>\n",
       "    </tr>\n",
       "    <tr>\n",
       "      <th>DiabetesPedigreeFunction</th>\n",
       "      <td>751.0</td>\n",
       "      <td>0.472915</td>\n",
       "      <td>0.330307</td>\n",
       "      <td>0.078</td>\n",
       "      <td>0.244000</td>\n",
       "      <td>0.376</td>\n",
       "      <td>0.628000</td>\n",
       "      <td>2.42</td>\n",
       "    </tr>\n",
       "    <tr>\n",
       "      <th>Age</th>\n",
       "      <td>751.0</td>\n",
       "      <td>33.274301</td>\n",
       "      <td>11.670218</td>\n",
       "      <td>21.000</td>\n",
       "      <td>24.000000</td>\n",
       "      <td>29.000</td>\n",
       "      <td>41.000000</td>\n",
       "      <td>81.00</td>\n",
       "    </tr>\n",
       "    <tr>\n",
       "      <th>Outcome</th>\n",
       "      <td>751.0</td>\n",
       "      <td>0.350200</td>\n",
       "      <td>0.477350</td>\n",
       "      <td>0.000</td>\n",
       "      <td>0.000000</td>\n",
       "      <td>0.000</td>\n",
       "      <td>1.000000</td>\n",
       "      <td>1.00</td>\n",
       "    </tr>\n",
       "  </tbody>\n",
       "</table>\n",
       "</div>"
      ],
      "text/plain": [
       "                          count        mean        std     min         25%  \\\n",
       "Pregnancies               751.0    3.853529   3.376761   0.000    1.000000   \n",
       "Glucose                   751.0  121.841545  30.498528  44.000   99.500000   \n",
       "BloodPressure             751.0   73.015769  12.706673  24.000   64.000000   \n",
       "SkinThickness             751.0   31.076000  10.285288   7.000   23.776798   \n",
       "Insulin                   751.0  174.739845  99.316711  14.000  102.203090   \n",
       "BMI                       751.0   32.451664   6.933059  18.200   27.500000   \n",
       "DiabetesPedigreeFunction  751.0    0.472915   0.330307   0.078    0.244000   \n",
       "Age                       751.0   33.274301  11.670218  21.000   24.000000   \n",
       "Outcome                   751.0    0.350200   0.477350   0.000    0.000000   \n",
       "\n",
       "                              50%         75%     max  \n",
       "Pregnancies                 3.000    6.000000   17.00  \n",
       "Glucose                   117.000  141.000000  199.00  \n",
       "BloodPressure              72.000   80.000000  122.00  \n",
       "SkinThickness              31.000   39.000000   63.00  \n",
       "Insulin                   160.000  229.354901  846.00  \n",
       "BMI                        32.300   36.600000   67.10  \n",
       "DiabetesPedigreeFunction    0.376    0.628000    2.42  \n",
       "Age                        29.000   41.000000   81.00  \n",
       "Outcome                     0.000    1.000000    1.00  "
      ]
     },
     "execution_count": 4,
     "metadata": {},
     "output_type": "execute_result"
    }
   ],
   "source": [
    "dataset.describe().T"
   ]
  },
  {
   "cell_type": "markdown",
   "id": "b7b5cdbe-984a-4097-9ee2-04ca2b6f9ba5",
   "metadata": {},
   "source": [
    "Se plotea nuevamente la distribución de las clases en la columna Outcome para tener en cuenta la asimetría en el número de datos de individuos con o sin diabetes:"
   ]
  },
  {
   "cell_type": "code",
   "execution_count": 5,
   "id": "238cc4f3-311f-4eff-9861-269ffdef6248",
   "metadata": {},
   "outputs": [
    {
     "data": {
      "text/plain": [
       "<AxesSubplot: xlabel='Outcome', ylabel='count'>"
      ]
     },
     "execution_count": 5,
     "metadata": {},
     "output_type": "execute_result"
    },
    {
     "data": {
      "image/png": "[encoded data removed]",
      "text/plain": [
       "<Figure size 640x480 with 1 Axes>"
      ]
     },
     "metadata": {},
     "output_type": "display_data"
    }
   ],
   "source": [
    "sns.countplot(data=dataset , x='Outcome')"
   ]
  },
  {
   "cell_type": "markdown",
   "id": "2e956bc6-9e79-4a77-b627-89207bc15c4a",
   "metadata": {},
   "source": [
    "## Separo el dataset \n",
    "\n",
    "Se separa el dataset en un grupo de entrenamiento y otro de testeo. \n",
    "El primero se servirá para entrenar el modelo que se realice y el segundo para evaluar su performance.\n",
    "\n",
    "Antes de realizar esta separación, el dataset debe estandarizarse ya que algunas de las variables son mas grande que otras. Para ello voy a usar `StandardScaler`.\n",
    "Para este procedimiento se utilizarán diferentes herramientas de la librería de `sklearn`.\n",
    "\n",
    "Se crea el dataset `x_data` y `y_data`:"
   ]
  },
  {
   "cell_type": "code",
   "execution_count": 6,
   "id": "08c38608-63fe-4e19-8eb2-d4d2d27c7ec8",
   "metadata": {},
   "outputs": [
    {
     "data": {
      "text/html": [
       "<div>\n",
       "<style scoped>\n",
       "    .dataframe tbody tr th:only-of-type {\n",
       "        vertical-align: middle;\n",
       "    }\n",
       "\n",
       "    .dataframe tbody tr th {\n",
       "        vertical-align: top;\n",
       "    }\n",
       "\n",
       "    .dataframe thead th {\n",
       "        text-align: right;\n",
       "    }\n",
       "</style>\n",
       "<table border=\"1\" class=\"dataframe\">\n",
       "  <thead>\n",
       "    <tr style=\"text-align: right;\">\n",
       "      <th></th>\n",
       "      <th>Pregnancies</th>\n",
       "      <th>Glucose</th>\n",
       "      <th>BloodPressure</th>\n",
       "      <th>SkinThickness</th>\n",
       "      <th>Insulin</th>\n",
       "      <th>BMI</th>\n",
       "      <th>DiabetesPedigreeFunction</th>\n",
       "      <th>Age</th>\n",
       "    </tr>\n",
       "  </thead>\n",
       "  <tbody>\n",
       "    <tr>\n",
       "      <th>0</th>\n",
       "      <td>6</td>\n",
       "      <td>148</td>\n",
       "      <td>72.0</td>\n",
       "      <td>35.000000</td>\n",
       "      <td>119.551524</td>\n",
       "      <td>33.6</td>\n",
       "      <td>0.627</td>\n",
       "      <td>50</td>\n",
       "    </tr>\n",
       "    <tr>\n",
       "      <th>1</th>\n",
       "      <td>1</td>\n",
       "      <td>85</td>\n",
       "      <td>66.0</td>\n",
       "      <td>29.000000</td>\n",
       "      <td>288.225858</td>\n",
       "      <td>26.6</td>\n",
       "      <td>0.351</td>\n",
       "      <td>31</td>\n",
       "    </tr>\n",
       "    <tr>\n",
       "      <th>2</th>\n",
       "      <td>8</td>\n",
       "      <td>183</td>\n",
       "      <td>64.0</td>\n",
       "      <td>20.939621</td>\n",
       "      <td>135.133308</td>\n",
       "      <td>23.3</td>\n",
       "      <td>0.672</td>\n",
       "      <td>32</td>\n",
       "    </tr>\n",
       "    <tr>\n",
       "      <th>3</th>\n",
       "      <td>1</td>\n",
       "      <td>89</td>\n",
       "      <td>66.0</td>\n",
       "      <td>23.000000</td>\n",
       "      <td>94.000000</td>\n",
       "      <td>28.1</td>\n",
       "      <td>0.167</td>\n",
       "      <td>21</td>\n",
       "    </tr>\n",
       "    <tr>\n",
       "      <th>4</th>\n",
       "      <td>0</td>\n",
       "      <td>137</td>\n",
       "      <td>40.0</td>\n",
       "      <td>35.000000</td>\n",
       "      <td>168.000000</td>\n",
       "      <td>43.1</td>\n",
       "      <td>2.288</td>\n",
       "      <td>33</td>\n",
       "    </tr>\n",
       "  </tbody>\n",
       "</table>\n",
       "</div>"
      ],
      "text/plain": [
       "   Pregnancies  Glucose  BloodPressure  SkinThickness     Insulin   BMI  \\\n",
       "0            6      148           72.0      35.000000  119.551524  33.6   \n",
       "1            1       85           66.0      29.000000  288.225858  26.6   \n",
       "2            8      183           64.0      20.939621  135.133308  23.3   \n",
       "3            1       89           66.0      23.000000   94.000000  28.1   \n",
       "4            0      137           40.0      35.000000  168.000000  43.1   \n",
       "\n",
       "   DiabetesPedigreeFunction  Age  \n",
       "0                     0.627   50  \n",
       "1                     0.351   31  \n",
       "2                     0.672   32  \n",
       "3                     0.167   21  \n",
       "4                     2.288   33  "
      ]
     },
     "execution_count": 6,
     "metadata": {},
     "output_type": "execute_result"
    }
   ],
   "source": [
    "x_data = dataset.drop(columns=[\"Outcome\"])\n",
    "\n",
    "x_data.head()"
   ]
  },
  {
   "cell_type": "code",
   "execution_count": 7,
   "id": "2dd2bdc6-693a-4b07-b16c-0c9d65bbbf8d",
   "metadata": {},
   "outputs": [
    {
     "data": {
      "text/html": [
       "<div>\n",
       "<style scoped>\n",
       "    .dataframe tbody tr th:only-of-type {\n",
       "        vertical-align: middle;\n",
       "    }\n",
       "\n",
       "    .dataframe tbody tr th {\n",
       "        vertical-align: top;\n",
       "    }\n",
       "\n",
       "    .dataframe thead th {\n",
       "        text-align: right;\n",
       "    }\n",
       "</style>\n",
       "<table border=\"1\" class=\"dataframe\">\n",
       "  <thead>\n",
       "    <tr style=\"text-align: right;\">\n",
       "      <th></th>\n",
       "      <th>Outcome</th>\n",
       "    </tr>\n",
       "  </thead>\n",
       "  <tbody>\n",
       "    <tr>\n",
       "      <th>0</th>\n",
       "      <td>1</td>\n",
       "    </tr>\n",
       "    <tr>\n",
       "      <th>1</th>\n",
       "      <td>0</td>\n",
       "    </tr>\n",
       "    <tr>\n",
       "      <th>2</th>\n",
       "      <td>1</td>\n",
       "    </tr>\n",
       "    <tr>\n",
       "      <th>3</th>\n",
       "      <td>0</td>\n",
       "    </tr>\n",
       "    <tr>\n",
       "      <th>4</th>\n",
       "      <td>1</td>\n",
       "    </tr>\n",
       "  </tbody>\n",
       "</table>\n",
       "</div>"
      ],
      "text/plain": [
       "   Outcome\n",
       "0        1\n",
       "1        0\n",
       "2        1\n",
       "3        0\n",
       "4        1"
      ]
     },
     "execution_count": 7,
     "metadata": {},
     "output_type": "execute_result"
    }
   ],
   "source": [
    "y_data = dataset.drop(columns=dataset.columns[:-1])\n",
    "\n",
    "y_data.head()"
   ]
  },
  {
   "cell_type": "markdown",
   "id": "63593591-e100-4ab3-ac1c-8183f906afe9",
   "metadata": {},
   "source": [
    "### Estandarización"
   ]
  },
  {
   "cell_type": "code",
   "execution_count": 8,
   "id": "92f26c64-9ca8-47ef-b6d5-e7130cb9849e",
   "metadata": {},
   "outputs": [
    {
     "data": {
      "text/plain": [
       "array([[ 0.6360834 ,  0.85826728, -0.0799931 , ...,  0.16574227,\n",
       "         0.46680176,  1.43415021],\n",
       "       [-0.84561212, -1.20878286, -0.55250061, ..., -0.84458601,\n",
       "        -0.36934129, -0.19501063],\n",
       "       [ 1.22876161,  2.00662847, -0.71000312, ..., -1.32088363,\n",
       "         0.60312943, -0.10926533],\n",
       "       ...,\n",
       "       [ 0.3397443 , -0.02761135, -0.0799931 , ..., -0.90231906,\n",
       "        -0.69046869, -0.28075594],\n",
       "       [-0.84561212,  0.13644025, -1.02500813, ..., -0.33942187,\n",
       "        -0.3754003 ,  1.17691429],\n",
       "       [-0.84561212, -0.9463003 , -0.23749561, ..., -0.29612209,\n",
       "        -0.47840342, -0.88097309]])"
      ]
     },
     "execution_count": 8,
     "metadata": {},
     "output_type": "execute_result"
    }
   ],
   "source": [
    "# Defino el escalador\n",
    "scaler = StandardScaler()\n",
    "\n",
    "# Escalo el conjunto de datos x_data\n",
    "x_scaler = scaler.fit_transform(x_data)\n",
    "\n",
    "x_scaler"
   ]
  },
  {
   "cell_type": "markdown",
   "id": "9a2495b2-2907-4d5e-b1dc-2b975f7b823d",
   "metadata": {},
   "source": [
    "### Genero el grupo de entrenamiento y de testeo\n",
    "\n",
    "El 20% de los datos  se utilizan para generar el grupo de testeo:"
   ]
  },
  {
   "cell_type": "code",
   "execution_count": 9,
   "id": "f053ae57-fc22-4f71-bce1-84e110ae84f7",
   "metadata": {},
   "outputs": [],
   "source": [
    "# Separo los dataset x_scaler y y_data en train y test\n",
    "x_train, x_test, y_train, y_test = train_test_split(\n",
    "    x_scaler,\n",
    "    y_data, \n",
    "    test_size=0.20,\n",
    "    random_state = 100\n",
    ")"
   ]
  },
  {
   "cell_type": "code",
   "execution_count": 10,
   "id": "19e1deae-b616-4e8f-8d06-ccda17cd0ca9",
   "metadata": {},
   "outputs": [
    {
     "name": "stdout",
     "output_type": "stream",
     "text": [
      "Train shape:  (600, 8) Test shape:  (151, 8)\n"
     ]
    }
   ],
   "source": [
    "# Imprimo el tamaño de estos 2 conjuntos de datos \n",
    "print(\"Train shape: \", x_train.shape, \"Test shape: \", x_test.shape)"
   ]
  },
  {
   "cell_type": "code",
   "execution_count": 11,
   "id": "369bfe51-cf6b-4d84-889d-828ae8f782c6",
   "metadata": {},
   "outputs": [],
   "source": [
    "# Transformo y_train en un array 1D\n",
    "y_train = [i[0] for i in y_train.values]"
   ]
  },
  {
   "cell_type": "markdown",
   "id": "e801711d-2db5-4be7-acfd-996dd17095f0",
   "metadata": {
    "tags": []
   },
   "source": [
    "## Cálculo del modelo\n",
    "\n",
    "### Logistic Regression "
   ]
  },
  {
   "cell_type": "code",
   "execution_count": 12,
   "id": "a72ad227-8330-44e6-9856-a1b359c5a931",
   "metadata": {},
   "outputs": [
    {
     "data": {
      "text/html": [
       "<style>#sk-container-id-1 {color: black;background-color: white;}#sk-container-id-1 pre{padding: 0;}#sk-container-id-1 div.sk-toggleable {background-color: white;}#sk-container-id-1 label.sk-toggleable__label {cursor: pointer;display: block;width: 100%;margin-bottom: 0;padding: 0.3em;box-sizing: border-box;text-align: center;}#sk-container-id-1 label.sk-toggleable__label-arrow:before {content: \"▸\";float: left;margin-right: 0.25em;color: #696969;}#sk-container-id-1 label.sk-toggleable__label-arrow:hover:before {color: black;}#sk-container-id-1 div.sk-estimator:hover label.sk-toggleable__label-arrow:before {color: black;}#sk-container-id-1 div.sk-toggleable__content {max-height: 0;max-width: 0;overflow: hidden;text-align: left;background-color: #f0f8ff;}#sk-container-id-1 div.sk-toggleable__content pre {margin: 0.2em;color: black;border-radius: 0.25em;background-color: #f0f8ff;}#sk-container-id-1 input.sk-toggleable__control:checked~div.sk-toggleable__content {max-height: 200px;max-width: 100%;overflow: auto;}#sk-container-id-1 input.sk-toggleable__control:checked~label.sk-toggleable__label-arrow:before {content: \"▾\";}#sk-container-id-1 div.sk-estimator input.sk-toggleable__control:checked~label.sk-toggleable__label {background-color: #d4ebff;}#sk-container-id-1 div.sk-label input.sk-toggleable__control:checked~label.sk-toggleable__label {background-color: #d4ebff;}#sk-container-id-1 input.sk-hidden--visually {border: 0;clip: rect(1px 1px 1px 1px);clip: rect(1px, 1px, 1px, 1px);height: 1px;margin: -1px;overflow: hidden;padding: 0;position: absolute;width: 1px;}#sk-container-id-1 div.sk-estimator {font-family: monospace;background-color: #f0f8ff;border: 1px dotted black;border-radius: 0.25em;box-sizing: border-box;margin-bottom: 0.5em;}#sk-container-id-1 div.sk-estimator:hover {background-color: #d4ebff;}#sk-container-id-1 div.sk-parallel-item::after {content: \"\";width: 100%;border-bottom: 1px solid gray;flex-grow: 1;}#sk-container-id-1 div.sk-label:hover label.sk-toggleable__label {background-color: #d4ebff;}#sk-container-id-1 div.sk-serial::before {content: \"\";position: absolute;border-left: 1px solid gray;box-sizing: border-box;top: 0;bottom: 0;left: 50%;z-index: 0;}#sk-container-id-1 div.sk-serial {display: flex;flex-direction: column;align-items: center;background-color: white;padding-right: 0.2em;padding-left: 0.2em;position: relative;}#sk-container-id-1 div.sk-item {position: relative;z-index: 1;}#sk-container-id-1 div.sk-parallel {display: flex;align-items: stretch;justify-content: center;background-color: white;position: relative;}#sk-container-id-1 div.sk-item::before, #sk-container-id-1 div.sk-parallel-item::before {content: \"\";position: absolute;border-left: 1px solid gray;box-sizing: border-box;top: 0;bottom: 0;left: 50%;z-index: -1;}#sk-container-id-1 div.sk-parallel-item {display: flex;flex-direction: column;z-index: 1;position: relative;background-color: white;}#sk-container-id-1 div.sk-parallel-item:first-child::after {align-self: flex-end;width: 50%;}#sk-container-id-1 div.sk-parallel-item:last-child::after {align-self: flex-start;width: 50%;}#sk-container-id-1 div.sk-parallel-item:only-child::after {width: 0;}#sk-container-id-1 div.sk-dashed-wrapped {border: 1px dashed gray;margin: 0 0.4em 0.5em 0.4em;box-sizing: border-box;padding-bottom: 0.4em;background-color: white;}#sk-container-id-1 div.sk-label label {font-family: monospace;font-weight: bold;display: inline-block;line-height: 1.2em;}#sk-container-id-1 div.sk-label-container {text-align: center;}#sk-container-id-1 div.sk-container {/* jupyter's `normalize.less` sets `[hidden] { display: none; }` but bootstrap.min.css set `[hidden] { display: none !important; }` so we also need the `!important` here to be able to override the default hidden behavior on the sphinx rendered scikit-learn.org. See: https://github.com/scikit-learn/scikit-learn/issues/21755 */display: inline-block !important;position: relative;}#sk-container-id-1 div.sk-text-repr-fallback {display: none;}</style><div id=\"sk-container-id-1\" class=\"sk-top-container\"><div class=\"sk-text-repr-fallback\"><pre>GridSearchCV(cv=KFold(n_splits=10, random_state=None, shuffle=False),\n",
       "             estimator=LogisticRegression(),\n",
       "             param_grid={&#x27;C&#x27;: [100, 600, 500, 100, 10, 1.0],\n",
       "                         &#x27;class_weight&#x27;: [&#x27;balanced&#x27;, None], &#x27;penalty&#x27;: [&#x27;l2&#x27;],\n",
       "                         &#x27;random_state&#x27;: [5, 10, 30, 50, 70, 80, 90],\n",
       "                         &#x27;solver&#x27;: [&#x27;lbfgs&#x27;, &#x27;liblinear&#x27;, &#x27;newton-cg&#x27;,\n",
       "                                    &#x27;newton-cholesky&#x27;, &#x27;sag&#x27;, &#x27;saga&#x27;]})</pre><b>In a Jupyter environment, please rerun this cell to show the HTML representation or trust the notebook. <br />On GitHub, the HTML representation is unable to render, please try loading this page with nbviewer.org.</b></div><div class=\"sk-container\" hidden><div class=\"sk-item sk-dashed-wrapped\"><div class=\"sk-label-container\"><div class=\"sk-label sk-toggleable\"><input class=\"sk-toggleable__control sk-hidden--visually\" id=\"sk-estimator-id-1\" type=\"checkbox\" ><label for=\"sk-estimator-id-1\" class=\"sk-toggleable__label sk-toggleable__label-arrow\">GridSearchCV</label><div class=\"sk-toggleable__content\"><pre>GridSearchCV(cv=KFold(n_splits=10, random_state=None, shuffle=False),\n",
       "             estimator=LogisticRegression(),\n",
       "             param_grid={&#x27;C&#x27;: [100, 600, 500, 100, 10, 1.0],\n",
       "                         &#x27;class_weight&#x27;: [&#x27;balanced&#x27;, None], &#x27;penalty&#x27;: [&#x27;l2&#x27;],\n",
       "                         &#x27;random_state&#x27;: [5, 10, 30, 50, 70, 80, 90],\n",
       "                         &#x27;solver&#x27;: [&#x27;lbfgs&#x27;, &#x27;liblinear&#x27;, &#x27;newton-cg&#x27;,\n",
       "                                    &#x27;newton-cholesky&#x27;, &#x27;sag&#x27;, &#x27;saga&#x27;]})</pre></div></div></div><div class=\"sk-parallel\"><div class=\"sk-parallel-item\"><div class=\"sk-item\"><div class=\"sk-label-container\"><div class=\"sk-label sk-toggleable\"><input class=\"sk-toggleable__control sk-hidden--visually\" id=\"sk-estimator-id-2\" type=\"checkbox\" ><label for=\"sk-estimator-id-2\" class=\"sk-toggleable__label sk-toggleable__label-arrow\">estimator: LogisticRegression</label><div class=\"sk-toggleable__content\"><pre>LogisticRegression()</pre></div></div></div><div class=\"sk-serial\"><div class=\"sk-item\"><div class=\"sk-estimator sk-toggleable\"><input class=\"sk-toggleable__control sk-hidden--visually\" id=\"sk-estimator-id-3\" type=\"checkbox\" ><label for=\"sk-estimator-id-3\" class=\"sk-toggleable__label sk-toggleable__label-arrow\">LogisticRegression</label><div class=\"sk-toggleable__content\"><pre>LogisticRegression()</pre></div></div></div></div></div></div></div></div></div></div>"
      ],
      "text/plain": [
       "GridSearchCV(cv=KFold(n_splits=10, random_state=None, shuffle=False),\n",
       "             estimator=LogisticRegression(),\n",
       "             param_grid={'C': [100, 600, 500, 100, 10, 1.0],\n",
       "                         'class_weight': ['balanced', None], 'penalty': ['l2'],\n",
       "                         'random_state': [5, 10, 30, 50, 70, 80, 90],\n",
       "                         'solver': ['lbfgs', 'liblinear', 'newton-cg',\n",
       "                                    'newton-cholesky', 'sag', 'saga']})"
      ]
     },
     "execution_count": 12,
     "metadata": {},
     "output_type": "execute_result"
    }
   ],
   "source": [
    "# Defino el modelo\n",
    "logistic_regression = LogisticRegression()\n",
    "\n",
    "# Defino los parametros para el modelo en donde se hace la busqueda\n",
    "param_grid = {\n",
    "    \"penalty\": [\"l2\"],\n",
    "    \"C\": [100, 600, 500, 100, 10, 1.0, ],\n",
    "    \"solver\": [\"lbfgs\", \"liblinear\", \"newton-cg\", \"newton-cholesky\", \"sag\", \"saga\"],\n",
    "    \"random_state\": [5, 10, 30, 50, 70 ,80, 90],\n",
    "    \"class_weight\": [\"balanced\", None]\n",
    "}\n",
    "\n",
    "# Defino la validacion cruzada\n",
    "cv = KFold(n_splits=10)\n",
    "\n",
    "# Realizo la búsqueda de los hiperparametros\n",
    "cv_grid_lrm = GridSearchCV(estimator=logistic_regression, param_grid=param_grid, cv=cv)\n",
    "\n",
    "# Entreno el modelo con el grupo de entrenamiento\n",
    "cv_grid_lrm.fit(x_train, y_train)"
   ]
  },
  {
   "cell_type": "markdown",
   "id": "6230705b-55a4-4137-9f58-1d638f6b57fe",
   "metadata": {},
   "source": [
    "Se muestan los mejore hiperparametros para este modelo:"
   ]
  },
  {
   "cell_type": "code",
   "execution_count": 13,
   "id": "815c8d55-6e05-4a23-84c0-a5502eca0e72",
   "metadata": {},
   "outputs": [
    {
     "data": {
      "text/plain": [
       "{'C': 1.0,\n",
       " 'class_weight': None,\n",
       " 'penalty': 'l2',\n",
       " 'random_state': 5,\n",
       " 'solver': 'lbfgs'}"
      ]
     },
     "execution_count": 13,
     "metadata": {},
     "output_type": "execute_result"
    }
   ],
   "source": [
    "cv_grid_lrm.best_params_"
   ]
  },
  {
   "cell_type": "markdown",
   "id": "46063432-3d31-4add-9af1-5129bfa6228a",
   "metadata": {},
   "source": [
    "Se define el modelo con los mejores parámetros y calculo sus métricas"
   ]
  },
  {
   "cell_type": "code",
   "execution_count": 14,
   "id": "cd5cfda3-11dd-4f8e-be87-38ca082b7729",
   "metadata": {},
   "outputs": [
    {
     "name": "stdout",
     "output_type": "stream",
     "text": [
      "Metricas del Logistic regression model \n",
      "\n",
      "Accuracy Score: 0.7814569536423841\n",
      "Precision Score: 0.6666666666666666\n",
      "Recall Score: 0.7777777777777778 \n",
      "\n",
      "              precision    recall  f1-score   support\n",
      "\n",
      "           0       0.86      0.78      0.82        97\n",
      "           1       0.67      0.78      0.72        54\n",
      "\n",
      "    accuracy                           0.78       151\n",
      "   macro avg       0.77      0.78      0.77       151\n",
      "weighted avg       0.79      0.78      0.78       151\n",
      "\n"
     ]
    },
    {
     "data": {
      "image/png": "[encoded data removed]",
      "text/plain": [
       "<Figure size 640x480 with 1 Axes>"
      ]
     },
     "metadata": {},
     "output_type": "display_data"
    }
   ],
   "source": [
    "# Defino el modelo con los mejores parametros\n",
    "logistic_regression = LogisticRegression(\n",
    "    C=1, \n",
    "    penalty=\"l2\", \n",
    "    random_state=5, \n",
    "    solver='lbfgs', \n",
    "    class_weight=\"balanced\",\n",
    ")\n",
    "\n",
    "# Entreno el modelo\n",
    "logistic_regression.fit(x_train, y_train)\n",
    "\n",
    "# Predigo en el grupo de testeo\n",
    "y_predicted_lrm = logistic_regression.predict(x_test)\n",
    "\n",
    "# Calculo las metricas\n",
    "calculate_metrics(y_test, y_predicted_lrm, \"Logistic regression model\")"
   ]
  },
  {
   "cell_type": "markdown",
   "id": "8c25ed04-19c8-4945-a33d-cb3e6d1e8112",
   "metadata": {},
   "source": [
    "### Ramdon Forest"
   ]
  },
  {
   "cell_type": "code",
   "execution_count": 20,
   "id": "378fb2d2-e9d1-4462-b796-da6d9d996bcc",
   "metadata": {},
   "outputs": [
    {
     "data": {
      "text/html": [
       "<style>#sk-container-id-2 {color: black;background-color: white;}#sk-container-id-2 pre{padding: 0;}#sk-container-id-2 div.sk-toggleable {background-color: white;}#sk-container-id-2 label.sk-toggleable__label {cursor: pointer;display: block;width: 100%;margin-bottom: 0;padding: 0.3em;box-sizing: border-box;text-align: center;}#sk-container-id-2 label.sk-toggleable__label-arrow:before {content: \"▸\";float: left;margin-right: 0.25em;color: #696969;}#sk-container-id-2 label.sk-toggleable__label-arrow:hover:before {color: black;}#sk-container-id-2 div.sk-estimator:hover label.sk-toggleable__label-arrow:before {color: black;}#sk-container-id-2 div.sk-toggleable__content {max-height: 0;max-width: 0;overflow: hidden;text-align: left;background-color: #f0f8ff;}#sk-container-id-2 div.sk-toggleable__content pre {margin: 0.2em;color: black;border-radius: 0.25em;background-color: #f0f8ff;}#sk-container-id-2 input.sk-toggleable__control:checked~div.sk-toggleable__content {max-height: 200px;max-width: 100%;overflow: auto;}#sk-container-id-2 input.sk-toggleable__control:checked~label.sk-toggleable__label-arrow:before {content: \"▾\";}#sk-container-id-2 div.sk-estimator input.sk-toggleable__control:checked~label.sk-toggleable__label {background-color: #d4ebff;}#sk-container-id-2 div.sk-label input.sk-toggleable__control:checked~label.sk-toggleable__label {background-color: #d4ebff;}#sk-container-id-2 input.sk-hidden--visually {border: 0;clip: rect(1px 1px 1px 1px);clip: rect(1px, 1px, 1px, 1px);height: 1px;margin: -1px;overflow: hidden;padding: 0;position: absolute;width: 1px;}#sk-container-id-2 div.sk-estimator {font-family: monospace;background-color: #f0f8ff;border: 1px dotted black;border-radius: 0.25em;box-sizing: border-box;margin-bottom: 0.5em;}#sk-container-id-2 div.sk-estimator:hover {background-color: #d4ebff;}#sk-container-id-2 div.sk-parallel-item::after {content: \"\";width: 100%;border-bottom: 1px solid gray;flex-grow: 1;}#sk-container-id-2 div.sk-label:hover label.sk-toggleable__label {background-color: #d4ebff;}#sk-container-id-2 div.sk-serial::before {content: \"\";position: absolute;border-left: 1px solid gray;box-sizing: border-box;top: 0;bottom: 0;left: 50%;z-index: 0;}#sk-container-id-2 div.sk-serial {display: flex;flex-direction: column;align-items: center;background-color: white;padding-right: 0.2em;padding-left: 0.2em;position: relative;}#sk-container-id-2 div.sk-item {position: relative;z-index: 1;}#sk-container-id-2 div.sk-parallel {display: flex;align-items: stretch;justify-content: center;background-color: white;position: relative;}#sk-container-id-2 div.sk-item::before, #sk-container-id-2 div.sk-parallel-item::before {content: \"\";position: absolute;border-left: 1px solid gray;box-sizing: border-box;top: 0;bottom: 0;left: 50%;z-index: -1;}#sk-container-id-2 div.sk-parallel-item {display: flex;flex-direction: column;z-index: 1;position: relative;background-color: white;}#sk-container-id-2 div.sk-parallel-item:first-child::after {align-self: flex-end;width: 50%;}#sk-container-id-2 div.sk-parallel-item:last-child::after {align-self: flex-start;width: 50%;}#sk-container-id-2 div.sk-parallel-item:only-child::after {width: 0;}#sk-container-id-2 div.sk-dashed-wrapped {border: 1px dashed gray;margin: 0 0.4em 0.5em 0.4em;box-sizing: border-box;padding-bottom: 0.4em;background-color: white;}#sk-container-id-2 div.sk-label label {font-family: monospace;font-weight: bold;display: inline-block;line-height: 1.2em;}#sk-container-id-2 div.sk-label-container {text-align: center;}#sk-container-id-2 div.sk-container {/* jupyter's `normalize.less` sets `[hidden] { display: none; }` but bootstrap.min.css set `[hidden] { display: none !important; }` so we also need the `!important` here to be able to override the default hidden behavior on the sphinx rendered scikit-learn.org. See: https://github.com/scikit-learn/scikit-learn/issues/21755 */display: inline-block !important;position: relative;}#sk-container-id-2 div.sk-text-repr-fallback {display: none;}</style><div id=\"sk-container-id-2\" class=\"sk-top-container\"><div class=\"sk-text-repr-fallback\"><pre>GridSearchCV(cv=KFold(n_splits=10, random_state=None, shuffle=False),\n",
       "             estimator=RandomForestClassifier(random_state=11),\n",
       "             param_grid={&#x27;class_weight&#x27;: [&#x27;balanced&#x27;, None],\n",
       "                         &#x27;criterion&#x27;: [&#x27;gini&#x27;, &#x27;entropy&#x27;, &#x27;log_loss&#x27;],\n",
       "                         &#x27;max_features&#x27;: [2, 3, 4, 5, 6, 7],\n",
       "                         &#x27;n_estimators&#x27;: [50, 64, 100, 128, 200, 500]})</pre><b>In a Jupyter environment, please rerun this cell to show the HTML representation or trust the notebook. <br />On GitHub, the HTML representation is unable to render, please try loading this page with nbviewer.org.</b></div><div class=\"sk-container\" hidden><div class=\"sk-item sk-dashed-wrapped\"><div class=\"sk-label-container\"><div class=\"sk-label sk-toggleable\"><input class=\"sk-toggleable__control sk-hidden--visually\" id=\"sk-estimator-id-4\" type=\"checkbox\" ><label for=\"sk-estimator-id-4\" class=\"sk-toggleable__label sk-toggleable__label-arrow\">GridSearchCV</label><div class=\"sk-toggleable__content\"><pre>GridSearchCV(cv=KFold(n_splits=10, random_state=None, shuffle=False),\n",
       "             estimator=RandomForestClassifier(random_state=11),\n",
       "             param_grid={&#x27;class_weight&#x27;: [&#x27;balanced&#x27;, None],\n",
       "                         &#x27;criterion&#x27;: [&#x27;gini&#x27;, &#x27;entropy&#x27;, &#x27;log_loss&#x27;],\n",
       "                         &#x27;max_features&#x27;: [2, 3, 4, 5, 6, 7],\n",
       "                         &#x27;n_estimators&#x27;: [50, 64, 100, 128, 200, 500]})</pre></div></div></div><div class=\"sk-parallel\"><div class=\"sk-parallel-item\"><div class=\"sk-item\"><div class=\"sk-label-container\"><div class=\"sk-label sk-toggleable\"><input class=\"sk-toggleable__control sk-hidden--visually\" id=\"sk-estimator-id-5\" type=\"checkbox\" ><label for=\"sk-estimator-id-5\" class=\"sk-toggleable__label sk-toggleable__label-arrow\">estimator: RandomForestClassifier</label><div class=\"sk-toggleable__content\"><pre>RandomForestClassifier(random_state=11)</pre></div></div></div><div class=\"sk-serial\"><div class=\"sk-item\"><div class=\"sk-estimator sk-toggleable\"><input class=\"sk-toggleable__control sk-hidden--visually\" id=\"sk-estimator-id-6\" type=\"checkbox\" ><label for=\"sk-estimator-id-6\" class=\"sk-toggleable__label sk-toggleable__label-arrow\">RandomForestClassifier</label><div class=\"sk-toggleable__content\"><pre>RandomForestClassifier(random_state=11)</pre></div></div></div></div></div></div></div></div></div></div>"
      ],
      "text/plain": [
       "GridSearchCV(cv=KFold(n_splits=10, random_state=None, shuffle=False),\n",
       "             estimator=RandomForestClassifier(random_state=11),\n",
       "             param_grid={'class_weight': ['balanced', None],\n",
       "                         'criterion': ['gini', 'entropy', 'log_loss'],\n",
       "                         'max_features': [2, 3, 4, 5, 6, 7],\n",
       "                         'n_estimators': [50, 64, 100, 128, 200, 500]})"
      ]
     },
     "execution_count": 20,
     "metadata": {},
     "output_type": "execute_result"
    }
   ],
   "source": [
    "# Defino el modelo\n",
    "random_forest = RandomForestClassifier(random_state=11)\n",
    "\n",
    "# Defino los parametros para el modelo en donde se hace la busqueda\n",
    "param_grid = {\n",
    "    \"criterion\": [\"gini\", \"entropy\", \"log_loss\"],\n",
    "    \"n_estimators\" : [50, 64, 100, 128, 200, 500],\n",
    "    \"max_features\" : [2, 3, 4, 5, 6, 7],\n",
    "    \"class_weight\": [\"balanced\", None]\n",
    "}\n",
    "\n",
    "# Defino la validacion cruzada\n",
    "cv = KFold(n_splits=10)\n",
    "\n",
    "# Realizo la busqueda de los hiperparametros\n",
    "cv_grid_rf = GridSearchCV(estimator=random_forest, param_grid=param_grid, cv=cv)\n",
    "\n",
    "# Entreno el modelo con el grupo de entrenamiento\n",
    "cv_grid_rf.fit(x_train, y_train)"
   ]
  },
  {
   "cell_type": "markdown",
   "id": "9c2293b3-0f32-4c2a-8db5-1171a6235c45",
   "metadata": {},
   "source": [
    "Se miestran los mejore hiperparametros:"
   ]
  },
  {
   "cell_type": "code",
   "execution_count": 21,
   "id": "354a7548-f276-4ef0-976a-152d32f389b1",
   "metadata": {},
   "outputs": [
    {
     "data": {
      "text/plain": [
       "{'class_weight': 'balanced',\n",
       " 'criterion': 'gini',\n",
       " 'max_features': 3,\n",
       " 'n_estimators': 128}"
      ]
     },
     "execution_count": 21,
     "metadata": {},
     "output_type": "execute_result"
    }
   ],
   "source": [
    "cv_grid_rf.best_params_"
   ]
  },
  {
   "cell_type": "code",
   "execution_count": 15,
   "id": "66477a74-ab99-481b-998b-4f7ba934e388",
   "metadata": {},
   "outputs": [
    {
     "name": "stdout",
     "output_type": "stream",
     "text": [
      "Metricas del Random forest model \n",
      "\n",
      "Accuracy Score: 0.8410596026490066\n",
      "Precision Score: 0.8\n",
      "Recall Score: 0.7407407407407407 \n",
      "\n",
      "              precision    recall  f1-score   support\n",
      "\n",
      "           0       0.86      0.90      0.88        97\n",
      "           1       0.80      0.74      0.77        54\n",
      "\n",
      "    accuracy                           0.84       151\n",
      "   macro avg       0.83      0.82      0.82       151\n",
      "weighted avg       0.84      0.84      0.84       151\n",
      "\n"
     ]
    },
    {
     "data": {
      "image/png": "[encoded data removed]",
      "text/plain": [
       "<Figure size 640x480 with 1 Axes>"
      ]
     },
     "metadata": {},
     "output_type": "display_data"
    }
   ],
   "source": [
    "# Defino el modelo con los mejores parametros\n",
    "random_forest = RandomForestClassifier(\n",
    "    n_estimators=128,\n",
    "    criterion= \"gini\",\n",
    "    max_features=3,\n",
    "    class_weight=\"balanced\",\n",
    "    random_state=11\n",
    ")\n",
    "\n",
    "# Entreno el modelo\n",
    "random_forest.fit(x_train, y_train)\n",
    "\n",
    "# Predigo en el grupo de testeo\n",
    "y_predicted_forest = random_forest.predict(x_test)\n",
    "\n",
    "# Calculo las metricas\n",
    "calculate_metrics(y_test, y_predicted_forest, \"Random forest model\")"
   ]
  },
  {
   "cell_type": "markdown",
   "id": "906824b8-19c3-4c37-9433-69ad6eeb9f81",
   "metadata": {},
   "source": [
    "### Decision Tree"
   ]
  },
  {
   "cell_type": "code",
   "execution_count": 16,
   "id": "d394d21a-f38e-446f-b9ff-d331bf8b8343",
   "metadata": {},
   "outputs": [
    {
     "data": {
      "text/html": [
       "<style>#sk-container-id-2 {color: black;background-color: white;}#sk-container-id-2 pre{padding: 0;}#sk-container-id-2 div.sk-toggleable {background-color: white;}#sk-container-id-2 label.sk-toggleable__label {cursor: pointer;display: block;width: 100%;margin-bottom: 0;padding: 0.3em;box-sizing: border-box;text-align: center;}#sk-container-id-2 label.sk-toggleable__label-arrow:before {content: \"▸\";float: left;margin-right: 0.25em;color: #696969;}#sk-container-id-2 label.sk-toggleable__label-arrow:hover:before {color: black;}#sk-container-id-2 div.sk-estimator:hover label.sk-toggleable__label-arrow:before {color: black;}#sk-container-id-2 div.sk-toggleable__content {max-height: 0;max-width: 0;overflow: hidden;text-align: left;background-color: #f0f8ff;}#sk-container-id-2 div.sk-toggleable__content pre {margin: 0.2em;color: black;border-radius: 0.25em;background-color: #f0f8ff;}#sk-container-id-2 input.sk-toggleable__control:checked~div.sk-toggleable__content {max-height: 200px;max-width: 100%;overflow: auto;}#sk-container-id-2 input.sk-toggleable__control:checked~label.sk-toggleable__label-arrow:before {content: \"▾\";}#sk-container-id-2 div.sk-estimator input.sk-toggleable__control:checked~label.sk-toggleable__label {background-color: #d4ebff;}#sk-container-id-2 div.sk-label input.sk-toggleable__control:checked~label.sk-toggleable__label {background-color: #d4ebff;}#sk-container-id-2 input.sk-hidden--visually {border: 0;clip: rect(1px 1px 1px 1px);clip: rect(1px, 1px, 1px, 1px);height: 1px;margin: -1px;overflow: hidden;padding: 0;position: absolute;width: 1px;}#sk-container-id-2 div.sk-estimator {font-family: monospace;background-color: #f0f8ff;border: 1px dotted black;border-radius: 0.25em;box-sizing: border-box;margin-bottom: 0.5em;}#sk-container-id-2 div.sk-estimator:hover {background-color: #d4ebff;}#sk-container-id-2 div.sk-parallel-item::after {content: \"\";width: 100%;border-bottom: 1px solid gray;flex-grow: 1;}#sk-container-id-2 div.sk-label:hover label.sk-toggleable__label {background-color: #d4ebff;}#sk-container-id-2 div.sk-serial::before {content: \"\";position: absolute;border-left: 1px solid gray;box-sizing: border-box;top: 0;bottom: 0;left: 50%;z-index: 0;}#sk-container-id-2 div.sk-serial {display: flex;flex-direction: column;align-items: center;background-color: white;padding-right: 0.2em;padding-left: 0.2em;position: relative;}#sk-container-id-2 div.sk-item {position: relative;z-index: 1;}#sk-container-id-2 div.sk-parallel {display: flex;align-items: stretch;justify-content: center;background-color: white;position: relative;}#sk-container-id-2 div.sk-item::before, #sk-container-id-2 div.sk-parallel-item::before {content: \"\";position: absolute;border-left: 1px solid gray;box-sizing: border-box;top: 0;bottom: 0;left: 50%;z-index: -1;}#sk-container-id-2 div.sk-parallel-item {display: flex;flex-direction: column;z-index: 1;position: relative;background-color: white;}#sk-container-id-2 div.sk-parallel-item:first-child::after {align-self: flex-end;width: 50%;}#sk-container-id-2 div.sk-parallel-item:last-child::after {align-self: flex-start;width: 50%;}#sk-container-id-2 div.sk-parallel-item:only-child::after {width: 0;}#sk-container-id-2 div.sk-dashed-wrapped {border: 1px dashed gray;margin: 0 0.4em 0.5em 0.4em;box-sizing: border-box;padding-bottom: 0.4em;background-color: white;}#sk-container-id-2 div.sk-label label {font-family: monospace;font-weight: bold;display: inline-block;line-height: 1.2em;}#sk-container-id-2 div.sk-label-container {text-align: center;}#sk-container-id-2 div.sk-container {/* jupyter's `normalize.less` sets `[hidden] { display: none; }` but bootstrap.min.css set `[hidden] { display: none !important; }` so we also need the `!important` here to be able to override the default hidden behavior on the sphinx rendered scikit-learn.org. See: https://github.com/scikit-learn/scikit-learn/issues/21755 */display: inline-block !important;position: relative;}#sk-container-id-2 div.sk-text-repr-fallback {display: none;}</style><div id=\"sk-container-id-2\" class=\"sk-top-container\"><div class=\"sk-text-repr-fallback\"><pre>GridSearchCV(cv=KFold(n_splits=10, random_state=None, shuffle=False),\n",
       "             estimator=DecisionTreeClassifier(),\n",
       "             param_grid={&#x27;class_weight&#x27;: [&#x27;balanced&#x27;, None],\n",
       "                         &#x27;criterion&#x27;: [&#x27;entropy&#x27;, &#x27;gini&#x27;, &#x27;log_loss&#x27;],\n",
       "                         &#x27;max_depth&#x27;: [1, 2, 3, 4, 5, 6, 7, 9, 11],\n",
       "                         &#x27;min_samples_split&#x27;: [1, 2, 3, 4, 5, 6, 7],\n",
       "                         &#x27;random_state&#x27;: [11]})</pre><b>In a Jupyter environment, please rerun this cell to show the HTML representation or trust the notebook. <br />On GitHub, the HTML representation is unable to render, please try loading this page with nbviewer.org.</b></div><div class=\"sk-container\" hidden><div class=\"sk-item sk-dashed-wrapped\"><div class=\"sk-label-container\"><div class=\"sk-label sk-toggleable\"><input class=\"sk-toggleable__control sk-hidden--visually\" id=\"sk-estimator-id-4\" type=\"checkbox\" ><label for=\"sk-estimator-id-4\" class=\"sk-toggleable__label sk-toggleable__label-arrow\">GridSearchCV</label><div class=\"sk-toggleable__content\"><pre>GridSearchCV(cv=KFold(n_splits=10, random_state=None, shuffle=False),\n",
       "             estimator=DecisionTreeClassifier(),\n",
       "             param_grid={&#x27;class_weight&#x27;: [&#x27;balanced&#x27;, None],\n",
       "                         &#x27;criterion&#x27;: [&#x27;entropy&#x27;, &#x27;gini&#x27;, &#x27;log_loss&#x27;],\n",
       "                         &#x27;max_depth&#x27;: [1, 2, 3, 4, 5, 6, 7, 9, 11],\n",
       "                         &#x27;min_samples_split&#x27;: [1, 2, 3, 4, 5, 6, 7],\n",
       "                         &#x27;random_state&#x27;: [11]})</pre></div></div></div><div class=\"sk-parallel\"><div class=\"sk-parallel-item\"><div class=\"sk-item\"><div class=\"sk-label-container\"><div class=\"sk-label sk-toggleable\"><input class=\"sk-toggleable__control sk-hidden--visually\" id=\"sk-estimator-id-5\" type=\"checkbox\" ><label for=\"sk-estimator-id-5\" class=\"sk-toggleable__label sk-toggleable__label-arrow\">estimator: DecisionTreeClassifier</label><div class=\"sk-toggleable__content\"><pre>DecisionTreeClassifier()</pre></div></div></div><div class=\"sk-serial\"><div class=\"sk-item\"><div class=\"sk-estimator sk-toggleable\"><input class=\"sk-toggleable__control sk-hidden--visually\" id=\"sk-estimator-id-6\" type=\"checkbox\" ><label for=\"sk-estimator-id-6\" class=\"sk-toggleable__label sk-toggleable__label-arrow\">DecisionTreeClassifier</label><div class=\"sk-toggleable__content\"><pre>DecisionTreeClassifier()</pre></div></div></div></div></div></div></div></div></div></div>"
      ],
      "text/plain": [
       "GridSearchCV(cv=KFold(n_splits=10, random_state=None, shuffle=False),\n",
       "             estimator=DecisionTreeClassifier(),\n",
       "             param_grid={'class_weight': ['balanced', None],\n",
       "                         'criterion': ['entropy', 'gini', 'log_loss'],\n",
       "                         'max_depth': [1, 2, 3, 4, 5, 6, 7, 9, 11],\n",
       "                         'min_samples_split': [1, 2, 3, 4, 5, 6, 7],\n",
       "                         'random_state': [11]})"
      ]
     },
     "execution_count": 16,
     "metadata": {},
     "output_type": "execute_result"
    }
   ],
   "source": [
    "# Defino el modelo\n",
    "decision_tree = DecisionTreeClassifier()\n",
    "\n",
    "# Defino los parametros para el modelo en donde se hara la busqueda\n",
    "param_grid = {\n",
    "    \"min_samples_split\": [1, 2, 3, 4, 5, 6, 7],\n",
    "    \"max_depth\": [1, 2, 3, 4, 5, 6, 7, 9, 11],\n",
    "    \"criterion\": [\"entropy\", \"gini\", \"log_loss\"],\n",
    "    \"class_weight\": [\"balanced\", None],\n",
    "    \"random_state\": [11],\n",
    "}\n",
    "\n",
    "# Defino la validacion cruzada\n",
    "cv = KFold(n_splits=10)\n",
    "\n",
    "# Realido la busqueda de los hiperparametros\n",
    "cv_grid_tree = GridSearchCV(estimator=decision_tree, param_grid=param_grid, cv=cv)\n",
    "\n",
    "# Entreno el modelo con el grupo de entrenamiento\n",
    "cv_grid_tree.fit(x_train, y_train)"
   ]
  },
  {
   "cell_type": "markdown",
   "id": "04a98377-ef77-41bd-bb8d-f03ea9094aa1",
   "metadata": {},
   "source": [
    "Se muestran los mejore hiperparametros:"
   ]
  },
  {
   "cell_type": "code",
   "execution_count": 17,
   "id": "8213c76f-c447-4108-bc1f-204610936611",
   "metadata": {},
   "outputs": [
    {
     "data": {
      "text/plain": [
       "{'class_weight': 'balanced',\n",
       " 'criterion': 'gini',\n",
       " 'max_depth': 2,\n",
       " 'min_samples_split': 1,\n",
       " 'random_state': 11}"
      ]
     },
     "execution_count": 17,
     "metadata": {},
     "output_type": "execute_result"
    }
   ],
   "source": [
    "cv_grid_tree.best_params_"
   ]
  },
  {
   "cell_type": "code",
   "execution_count": 18,
   "id": "06a6fc27-1173-4012-9164-de1d6a71d7b0",
   "metadata": {},
   "outputs": [
    {
     "name": "stdout",
     "output_type": "stream",
     "text": [
      "Metricas del Decision tree model \n",
      "\n",
      "Accuracy Score: 0.8013245033112583\n",
      "Precision Score: 0.7608695652173914\n",
      "Recall Score: 0.6481481481481481 \n",
      "\n",
      "              precision    recall  f1-score   support\n",
      "\n",
      "           0       0.82      0.89      0.85        97\n",
      "           1       0.76      0.65      0.70        54\n",
      "\n",
      "    accuracy                           0.80       151\n",
      "   macro avg       0.79      0.77      0.78       151\n",
      "weighted avg       0.80      0.80      0.80       151\n",
      "\n"
     ]
    },
    {
     "data": {
      "image/png": "[encoded data removed]",
      "text/plain": [
       "<Figure size 640x480 with 1 Axes>"
      ]
     },
     "metadata": {},
     "output_type": "display_data"
    }
   ],
   "source": [
    "# Defino el modelo con los mejores parametros\n",
    "decision_tree = DecisionTreeClassifier(\n",
    "    class_weight=\"balanced\",\n",
    "    criterion=\"gini\",\n",
    "    max_depth=2,\n",
    "    min_samples_split=1,\n",
    "    random_state=11\n",
    ")\n",
    "\n",
    "# Entreno el modelo\n",
    "decision_tree.fit(x_train, y_train)\n",
    "\n",
    "# Predigo en el grupo de test\n",
    "y_predicted_tree = decision_tree.predict(x_test)\n",
    "\n",
    "# Calculo las metricas\n",
    "calculate_metrics(y_test, y_predicted_tree, \"Decision tree model\")"
   ]
  },
  {
   "cell_type": "markdown",
   "id": "39b9386d-8a68-4194-b4e8-3037c78e0e3b",
   "metadata": {},
   "source": [
    "Se crea una carpeta para guadar la figura:"
   ]
  },
  {
   "cell_type": "code",
   "execution_count": null,
   "id": "73bceac1-a38e-4f7c-8169-8dd882220d8a",
   "metadata": {},
   "outputs": [],
   "source": [
    "fig_path = \"notebooks/fig\"\n",
    "\n",
    "# Chequeo se existe, sino existe lo creo:\n",
    "if not os.path.isdir(fig_path):\n",
    "    os.mkdir(fig_path)"
   ]
  },
  {
   "cell_type": "markdown",
   "id": "94ff5e2d-c378-4456-b6d4-316da4129142",
   "metadata": {},
   "source": [
    "Se guarda la figura con las matrices de confusión:"
   ]
  },
  {
   "cell_type": "code",
   "execution_count": 58,
   "id": "ffd44d2b-b728-4f76-a938-a2206b3b2419",
   "metadata": {},
   "outputs": [
    {
     "data": {
      "image/png": "[encoded data removed]",
      "text/plain": [
       "<Figure size 1000x2000 with 3 Axes>"
      ]
     },
     "metadata": {},
     "output_type": "display_data"
    }
   ],
   "source": [
    "fig , axs = plt.subplots(nrows=3, ncols=1, figsize=(10, 20))\n",
    "\n",
    "for y, title, ax in zip(\n",
    "    [y_predicted_lrm, y_predicted_forest, y_predicted_tree],\n",
    "    [\"Logistic regression\", \"Random forest\", \"Decision tree\"],\n",
    "    axs\n",
    "):\n",
    "    metrics.ConfusionMatrixDisplay.from_predictions(\n",
    "        y_test,\n",
    "        y,\n",
    "        cmap='Blues', \n",
    "        colorbar=False,\n",
    "        normalize=\"true\",\n",
    "        ax=ax\n",
    "    )\n",
    "    ax.set_xticklabels([\"Sin diabetes\", \"Con diabetes\"])\n",
    "    ax.set_yticklabels([\"Sin diabetes\", \"Con diabetes\"])\n",
    "    ax.set_title(title)\n",
    "\n",
    "fig.suptitle(\"Fig. 6 - Matriz de confusion\")\n",
    "\n",
    "#plt.savefig(f\"{fig_path}/fig6.png\")\n",
    "plt.show()"
   ]
  },
  {
   "cell_type": "code",
   "execution_count": null,
   "id": "783f2406-5dd3-41ac-b9f8-89c4db51da81",
   "metadata": {},
   "outputs": [],
   "source": []
  }
 ],
 "metadata": {
  "kernelspec": {
   "display_name": "Python [conda env:diabetes]",
   "language": "python",
   "name": "conda-env-diabetes-py"
  },
  "language_info": {
   "codemirror_mode": {
    "name": "ipython",
    "version": 3
   },
   "file_extension": ".py",
   "mimetype": "text/x-python",
   "name": "python",
   "nbconvert_exporter": "python",
   "pygments_lexer": "ipython3",
   "version": "3.9.15"
  }
 },
 "nbformat": 4,
 "nbformat_minor": 5
}
