{
 "cells": [
  {
   "cell_type": "markdown",
   "id": "c65b0653-2015-4207-a08f-3608ebbcac6a",
   "metadata": {},
   "source": [
    "# Predictor de diabetes\n",
    "\n",
    "## Objetivo\n",
    "\n",
    "El objetivo de este proyecto es conseguir un modelo que brinde la probabilidad de que de un paciente tenga diabetes a partir de ciertas medidas de diagnóstico clínico.\n",
    "\n",
    "### Análisis exploratorio y visualización efectiva\n",
    "\n",
    "Antes de realizar un modelo que prediga la probabilidad de padecer diabetes, se exploró el [dataset](https://www.kaggle.com/datasets/whenamancodes/predict-diabities?resource=download) para evaluar su integridad y generar algunas visualizaciones que pueda brindar información a priori sobre los datos de diagnóstico y el poseer o no diabetes.\n",
    "Algunas de las relaciones que se estudiaron fueron: \n",
    "\n",
    "1. ¿Qué relación hay entre la glucemia y la insulina con la aparición de diabetes en los pacientes?\n",
    "2. ¿Qué relación hay entre el índice de masa corporal (BMI) con la diabetes?\n",
    "3. ¿El número de embarazos en las pacientes influye en la aparición de diabetes?\n",
    "\n",
    "\n",
    "## Fuente de datos\n",
    "\n",
    "El dataset se descargó de [Kaggle](https://www.kaggle.com/datasets/whenamancodes/predict-diabities?resource=download) y posee de 9 columnas y 768 filas: \n",
    "\n",
    "| Columnas                 | Descripción                                      |\n",
    "| ------------------------ | ------------------------------------------------ |\n",
    "| Pregnancies              | To express the Number of pregnancies             |\n",
    "| Glucose                  | To express the Glucose level in blood            |\n",
    "| BloodPressure            | To express the Blood pressure measurement        |\n",
    "| SkinThickness            | To express the thickness of the skin             |\n",
    "| Insulin                  | To express the Insulin level in blood            |\n",
    "| BMI                      | To express the Body mass index                   |\n",
    "| DiabetesPedigreeFunction | To express the Diabetes percentage               |\n",
    "| Age                      | To express the age                               |\n",
    "| Outcome                  | To express the final result 1 is Yes and 0 is No |\n",
    "\n",
    "Este conjunto de datos es originalmente del National Institute of Diabetes and Digestive and Kidney Diseases.\n",
    "Para la generación de este dataset se colocaron varias restricciones en la selección de los datos, en particular, este dataset todos los pacientes son mujeres de al menos 21 años de edad de ascendencia indígena Pima."
   ]
  },
  {
   "cell_type": "markdown",
   "id": "d1458f89-5b7e-4b73-8e7d-3a84d6040107",
   "metadata": {},
   "source": [
    "## Análisis exploratorio de los datos y visualización efectiva\n",
    "\n",
    "El dataset utilizado no presenta filas repetidas o valores faltantes, pero algunas columnas como Glucose, BloodPressure, SkinThickness, Insulin y BMI presentan valores mínimos iguales a cero. \n",
    "La cantidad de filas con este valor en cada una de las columnas es: \n",
    "\n",
    "- Glucose : 5 (0 %)\n",
    "- BloodPressure : 35 (4 %)\n",
    "- SkinThickness : 227 (29 %)\n",
    "- Insulin : 374 (48 %)\n",
    "- BMI : 11 (1 %)\n",
    "\n",
    "La cantidad de filas comprometidas es muy significativo en algunas de las columnas como BloodPressure, SkinThickness y Insulin, por lo cual no es aconsejable eliminarlas directamente.\n",
    "\n",
    "Por ello se tomó la decisión de remplazar esos valores teniendo en cuenta la siguiente fórmula:\n",
    "\n",
    "$$ \\mu + (2 . \\sigma . np.random.random() - 0.5) $$\n",
    "\n",
    "Donde para una dada columna, $\\mu$ es su valor medio y $\\sigma$ su desviación estándar.\n",
    "\n",
    "Se utilizó esta fórmula, ya que se observó que las columnas de BloodPressure, SkinThickness y Insulin presentan casi una distribución normal como se aprecia en la Fig. 1. \n",
    "Además de esta forma no se acumularían valores en un valor en particular, sino que estarían aleatoriamente repartidos con una distribución normal alrededor de $\\mu$."
   ]
  },
  {
   "cell_type": "markdown",
   "id": "b06d5106-52c1-45d3-af30-ece488e55571",
   "metadata": {},
   "source": [
    "![fig/fig1.png](fig/fig1.png)"
   ]
  },
  {
   "cell_type": "markdown",
   "id": "be4a85ec-9515-433f-aa49-b5c838916a37",
   "metadata": {},
   "source": [
    "Para las columnas de Glucose y BMI se tomó la decisión de eliminar las filas que presentaban valores iguales a cero, ya que no son un gran número de filas y no representan una gran perdida de datos. \n",
    "Este dataset con los valores reemplazados se guardó con el nombre de `data/dataset1.csv` y es el que se utilizó para realizar el modelo de predicción.\n",
    "\n",
    "Además, en la Fig. 1 se puede observar que no hay una clara relación entre la distribución de la edad y el número de embarazos con el diagnóstico de diabetes. \n",
    "Así que la respuesta a la pregunta número 3, sería que no hay una clara relación.    \n",
    "\n",
    "Para poder responder las preguntas 1 y 2 se realizaron las siguientes figuras: Fig. 2, Fig. 3 y Fig.4. "
   ]
  },
  {
   "cell_type": "markdown",
   "id": "684dab48-f72c-4e57-a148-46ba380631b8",
   "metadata": {},
   "source": [
    "![fig/fig2.png](fig/fig2.png)"
   ]
  },
  {
   "cell_type": "markdown",
   "id": "226b5f24-4394-4433-a7b2-f9713ee0fdcb",
   "metadata": {},
   "source": [
    "![fig/fig4.png](fig/fig4.png)"
   ]
  },
  {
   "cell_type": "markdown",
   "id": "6a71d03f-0b8a-476d-b5c8-3f5cfc56d810",
   "metadata": {},
   "source": [
    "La Fig. 2 muestra que los pacientes con niveles de glucosa menores a 80 no tienen posibilidad de tener diabetes.\n",
    "Mientras que los pacientes con valores entre 80 y 120 comienzan a tener más probabilidad de tener este diagnóstico, especialmente si tienen valores de insulina superiores a 100.\n",
    "Por otro lado, los pacientes con niveles de glucosa por encima de 120 y altos niveles de insulina, han sido diagnosticados con diabetes.\n",
    "\n",
    "En la Fig. 3 se aprecia que los pacientes con niveles de glucosa por debajo de 120 y con valores de BMI menores a 30 (peso saludable/normal) rara vez tienen diabetes. \n",
    "Al parecer, pacientes con un valor de BMI alto (> 30) y un nivel de glucosa alto (>130) se han diagnosticado con diabetes.\n",
    "\n",
    "Por último en la Fig. 4  se muestra que los pacientes con un BMI y un Skin Thickness menores a 30 tiene muy baja probabilidad de ser diagnosticados con diabetes. "
   ]
  },
  {
   "cell_type": "markdown",
   "id": "b5028d1f-9c18-44e8-a47d-fc6c406223d9",
   "metadata": {},
   "source": [
    "### Conclusiones de la visualización de datos\n",
    "\n",
    "* Un nivel alto de glucosa (> 120) son un indicador de diabetes.\n",
    "\n",
    "* Los pacientes con BMI alto tienen un mayor riesgo de contraer diabetes.\n",
    "\n",
    "* El número de embarazos y la eda no seria un determinate para el diagnóstico."
   ]
  },
  {
   "cell_type": "markdown",
   "id": "964d3c8b-59f1-4046-a252-c4b34f6ce588",
   "metadata": {},
   "source": [
    "## Modelo de predicción de diabetes\n",
    "\n",
    "Para realizar el modelo de predicción se utilizó el dataset generado anteriormente (`data/dataser1.csv`) y se usaron 3 diferentes algoritmos de clasificación: \n",
    "- Logistisc Regression\n",
    "- Random Forest y \n",
    "- Decision Tree\n",
    "\n",
    "Para encontrar lo mejores hiperparámetros para cada uno de los diferentes algoritmos se usó la herramienta de `GridSearchCV` y validación cruzada `Kfold` de la librería de `sklearn`.\n",
    "\n",
    "Al abrir el dataset y graficar la distribución de clases de los datos, como se aprecia en Fig. 5, se observa que las mismas están desbalanceadas, lo cual sugiere que hay más datos de pacientes sin diabetes que con la enfermedad. \n",
    "Esto es un tema a tener en cuenta a la hora de realizar los modelos, por lo cual se utilizó a opción `class_weight=\"balanced\"` para balancear al dataset al entrenar los modelos.\n",
    "\n",
    "![fig/fig5.png](fig/fig5.png)"
   ]
  },
  {
   "cell_type": "markdown",
   "id": "18d73a04-d09c-4757-96a3-c5512d94d307",
   "metadata": {},
   "source": [
    "Los datos del dataset se separaron en 2 grupos: entrenamiento y testeo. \n",
    "El primero se utilizó para entrenar el modelo y el segundo para evaluar su performance y solo está formado por el 20% de los datos del dataset.\n",
    "\n",
    "Antes de realizar esta separación, el dataset se estandarizó, ya que algunas de las variables son más grande que otras.\n",
    "Para ello se hizo uso de la función `StandardScaler` de `sklearn`.\n",
    "\n",
    "Luego, para cada uno de los algoritmos se realizó un Grid search para encontrando los respectivos hiperparámetros que maximicen el Accuracy score. \n",
    "Posteriormente, se evaluó la performance de cada uno de los algoritmos entrenados con los mejores hiperparámetros obteniendo los scores mostrados en la tabla y las matrices de confusión de la Fig. 6. \n",
    "\n",
    "| Modelos         | Logistic regression | Random forest | Decision tree |\n",
    "| --------------- | ------------------- | ------------- | ------------- |\n",
    "| Accuracy Score  | 0.78                | 0.84          | 0.8           |\n",
    "| Precision Score | 0.66                | 0.8           | 0.76          |\n",
    "| Recall Score    | 0.77                | 0.74          | 0.65          |\n"
   ]
  },
  {
   "cell_type": "markdown",
   "id": "facb3b38-a26a-44c9-b607-f200bca8ad12",
   "metadata": {},
   "source": [
    "Con todos los algoritmos de clasificación se consiguieron scores parecidos, por lo cual se decidió que el mejor sería aquel que minimizara los falsos negativos.\n",
    "Esta decisión se toma debido a que estos casos son los más riesgo en el ámbito de la medicina, ya que serían paciente que padecen diabetes, pero el modelo predice que no posee diabetes, lo cual es erróneo. \n",
    "\n",
    "Teniendo en cuenta este criterio, el mejor modelo se obtiene con el algoritmo de Logistic regression usando el dataset balanceado.\n",
    "\n",
    "Este predictor podrían mejorarse teniendo en cuento lo siguiente: \n",
    "* Eliminar los outliers del dataset debido a que en los boxplot de la Fig. 1 se observan varios de ellos.\n",
    "* Probar con otro algoritmo de clasificación."
   ]
  },
  {
   "cell_type": "markdown",
   "id": "9397457d-435a-4c56-b5a5-bf0417869d87",
   "metadata": {},
   "source": [
    "![fig/fig6.png](fig/fig6.png)"
   ]
  },
  {
   "cell_type": "markdown",
   "id": "28fcf07e-b8e0-4035-ae4e-de283f58f3c4",
   "metadata": {},
   "source": [
    "## Notebooks\n",
    "\n",
    "El código de fuente para procesar el dataset, generar las gráficas y los modelos de casificación se encuentra en:\n",
    "\n",
    "- [Análisis exploratorio y visualización efectiva](https://github.com/aguspesce/diabetes_predictor/blob/main/exploracion_visualizacion.ipynb)\n",
    "\n",
    "- [Modelo de predicción de diabetes](https://github.com/aguspesce/diabetes_predictor/blob/main/modelo_predictor.ipynb)"
   ]
  },
  {
   "cell_type": "code",
   "execution_count": null,
   "id": "ce49a840-5768-4f5a-8800-e5b9f9e3fd9e",
   "metadata": {},
   "outputs": [],
   "source": []
  }
 ],
 "metadata": {
  "kernelspec": {
   "display_name": "Python 3 (ipykernel)",
   "language": "python",
   "name": "python3"
  },
  "language_info": {
   "codemirror_mode": {
    "name": "ipython",
    "version": 3
   },
   "file_extension": ".py",
   "mimetype": "text/x-python",
   "name": "python",
   "nbconvert_exporter": "python",
   "pygments_lexer": "ipython3",
   "version": "3.9.15"
  }
 },
 "nbformat": 4,
 "nbformat_minor": 5
}
